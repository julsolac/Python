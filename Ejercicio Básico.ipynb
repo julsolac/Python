{
 "cells": [
  {
   "cell_type": "code",
   "execution_count": 3,
   "metadata": {},
   "outputs": [],
   "source": [
    "ruta = \"datasets/us_births.csv\""
   ]
  },
  {
   "cell_type": "code",
   "execution_count": 4,
   "metadata": {},
   "outputs": [],
   "source": [
    "with open(ruta) as f:\n",
    "    births = f.readlines()\n",
    "f.close()"
   ]
  },
  {
   "cell_type": "code",
   "execution_count": 6,
   "metadata": {},
   "outputs": [
    {
     "data": {
      "text/plain": [
       "['year,month,date_of_month,day_of_week,births\\n',\n",
       " '1994,1,1,6,8096\\n',\n",
       " '1994,1,2,7,7772\\n',\n",
       " '1994,1,3,1,10142\\n',\n",
       " '1994,1,4,2,11248\\n',\n",
       " '1994,1,5,3,11053\\n',\n",
       " '1994,1,6,4,11406\\n',\n",
       " '1994,1,7,5,11251\\n',\n",
       " '1994,1,8,6,8653\\n',\n",
       " '1994,1,9,7,7910\\n',\n",
       " '1994,1,10,1,10498\\n',\n",
       " '1994,1,11,2,11706\\n',\n",
       " '1994,1,12,3,11567\\n',\n",
       " '1994,1,13,4,11212\\n',\n",
       " '1994,1,14,5,11570\\n',\n",
       " '1994,1,15,6,8660\\n',\n",
       " '1994,1,16,7,8123\\n',\n",
       " '1994,1,17,1,10567\\n',\n",
       " '1994,1,18,2,11541\\n',\n",
       " '1994,1,19,3,11257\\n',\n",
       " '1994,1,20,4,11682\\n',\n",
       " '1994,1,21,5,11811\\n',\n",
       " '1994,1,22,6,8833\\n',\n",
       " '1994,1,23,7,8310\\n',\n",
       " '1994,1,24,1,11125\\n',\n",
       " '1994,1,25,2,11981\\n',\n",
       " '1994,1,26,3,11514\\n',\n",
       " '1994,1,27,4,11702\\n',\n",
       " '1994,1,28,5,11666\\n',\n",
       " '1994,1,29,6,8988\\n',\n",
       " '1994,1,30,7,8096\\n',\n",
       " '1994,1,31,1,10765\\n',\n",
       " '1994,2,1,2,11755\\n',\n",
       " '1994,2,2,3,11483\\n',\n",
       " '1994,2,3,4,11523\\n',\n",
       " '1994,2,4,5,11677\\n',\n",
       " '1994,2,5,6,8991\\n',\n",
       " '1994,2,6,7,8309\\n',\n",
       " '1994,2,7,1,10984\\n',\n",
       " '1994,2,8,2,12152\\n',\n",
       " '1994,2,9,3,11515\\n',\n",
       " '1994,2,10,4,11623\\n',\n",
       " '1994,2,11,5,11517\\n',\n",
       " '1994,2,12,6,8945\\n',\n",
       " '1994,2,13,7,8171\\n',\n",
       " '1994,2,14,1,11551\\n',\n",
       " '1994,2,15,2,12164\\n',\n",
       " '1994,2,16,3,12009\\n',\n",
       " '1994,2,17,4,11674\\n',\n",
       " '1994,2,18,5,11887\\n',\n",
       " '1994,2,19,6,8946\\n',\n",
       " '1994,2,20,7,8402\\n',\n",
       " '1994,2,21,1,10617\\n',\n",
       " '1994,2,22,2,11810\\n',\n",
       " '1994,2,23,3,11776\\n',\n",
       " '1994,2,24,4,11667\\n',\n",
       " '1994,2,25,5,11905\\n',\n",
       " '1994,2,26,6,8988\\n',\n",
       " '1994,2,27,7,8195\\n',\n",
       " '1994,2,28,1,11091\\n',\n",
       " '1994,3,1,2,12127\\n',\n",
       " '1994,3,2,3,11735\\n',\n",
       " '1994,3,3,4,11984\\n',\n",
       " '1994,3,4,5,12066\\n',\n",
       " '1994,3,5,6,9215\\n',\n",
       " '1994,3,6,7,8389\\n',\n",
       " '1994,3,7,1,10996\\n',\n",
       " '1994,3,8,2,12275\\n',\n",
       " '1994,3,9,3,11780\\n',\n",
       " '1994,3,10,4,11792\\n',\n",
       " '1994,3,11,5,11939\\n',\n",
       " '1994,3,12,6,9087\\n',\n",
       " '1994,3,13,7,8248\\n',\n",
       " '1994,3,14,1,11092\\n',\n",
       " '1994,3,15,2,12298\\n',\n",
       " '1994,3,16,3,11865\\n',\n",
       " '1994,3,17,4,11976\\n',\n",
       " '1994,3,18,5,11799\\n',\n",
       " '1994,3,19,6,8944\\n',\n",
       " '1994,3,20,7,8243\\n',\n",
       " '1994,3,21,1,11140\\n',\n",
       " '1994,3,22,2,11964\\n',\n",
       " '1994,3,23,3,11637\\n',\n",
       " '1994,3,24,4,11904\\n',\n",
       " '1994,3,25,5,11568\\n',\n",
       " '1994,3,26,6,8957\\n',\n",
       " '1994,3,27,7,8189\\n',\n",
       " '1994,3,28,1,11051\\n',\n",
       " '1994,3,29,2,12154\\n',\n",
       " '1994,3,30,3,11540\\n',\n",
       " '1994,3,31,4,11782\\n',\n",
       " '1994,4,1,5,10630\\n',\n",
       " '1994,4,2,6,8782\\n',\n",
       " '1994,4,3,7,7530\\n',\n",
       " '1994,4,4,1,10909\\n',\n",
       " '1994,4,5,2,11876\\n',\n",
       " '1994,4,6,3,11811\\n',\n",
       " '1994,4,7,4,11718\\n',\n",
       " '1994,4,8,5,11532\\n',\n",
       " '1994,4,9,6,8791\\n']"
      ]
     },
     "execution_count": 6,
     "metadata": {},
     "output_type": "execute_result"
    }
   ],
   "source": [
    "births[:100]"
   ]
  },
  {
   "cell_type": "code",
   "execution_count": 7,
   "metadata": {},
   "outputs": [
    {
     "data": {
      "text/plain": [
       "'year,month,date_of_month,day_of_week,births\\n'"
      ]
     },
     "execution_count": 7,
     "metadata": {},
     "output_type": "execute_result"
    }
   ],
   "source": [
    "births[0]"
   ]
  },
  {
   "cell_type": "code",
   "execution_count": 9,
   "metadata": {},
   "outputs": [
    {
     "data": {
      "text/plain": [
       "['year', 'month', 'date_of_month', 'day_of_week', 'births']"
      ]
     },
     "execution_count": 9,
     "metadata": {},
     "output_type": "execute_result"
    }
   ],
   "source": [
    "births[0].replace(\"\\n\",\"\").split(',')"
   ]
  },
  {
   "cell_type": "code",
   "execution_count": 10,
   "metadata": {},
   "outputs": [],
   "source": [
    "births = [i.replace(\"\\n\",\"\").split(',') for i in births]"
   ]
  },
  {
   "cell_type": "code",
   "execution_count": 11,
   "metadata": {},
   "outputs": [],
   "source": [
    "headers = births[0]\n",
    "births = births[1:]"
   ]
  },
  {
   "cell_type": "code",
   "execution_count": 12,
   "metadata": {},
   "outputs": [
    {
     "data": {
      "text/plain": [
       "['year', 'month', 'date_of_month', 'day_of_week', 'births']"
      ]
     },
     "execution_count": 12,
     "metadata": {},
     "output_type": "execute_result"
    }
   ],
   "source": [
    "headers"
   ]
  },
  {
   "cell_type": "code",
   "execution_count": 13,
   "metadata": {},
   "outputs": [
    {
     "data": {
      "text/plain": [
       "[['1994', '1', '1', '6', '8096'],\n",
       " ['1994', '1', '2', '7', '7772'],\n",
       " ['1994', '1', '3', '1', '10142'],\n",
       " ['1994', '1', '4', '2', '11248'],\n",
       " ['1994', '1', '5', '3', '11053'],\n",
       " ['1994', '1', '6', '4', '11406'],\n",
       " ['1994', '1', '7', '5', '11251'],\n",
       " ['1994', '1', '8', '6', '8653'],\n",
       " ['1994', '1', '9', '7', '7910'],\n",
       " ['1994', '1', '10', '1', '10498']]"
      ]
     },
     "execution_count": 13,
     "metadata": {},
     "output_type": "execute_result"
    }
   ],
   "source": [
    "births[:10]"
   ]
  },
  {
   "cell_type": "code",
   "execution_count": 28,
   "metadata": {},
   "outputs": [],
   "source": [
    "# cargar archivo como parámetro\n",
    "# Convierte archivo en una lista de listas\n",
    "# Convierte numeros en ints\n",
    "# Crea una nueva lista de listas pero con nùmeros\n",
    "# Devuelve una lista\n",
    "\n",
    "def devuelve_lista(ruta):\n",
    "    with open(ruta) as f:\n",
    "        lista = f.readlines()\n",
    "    f.close()\n",
    "    # convertir en lista de listas\n",
    "    lista_str = [i.replace('\\n',\"\").split(',') for i in lista][1:]\n",
    "    \n",
    "    #convertir los strings a numeros\n",
    "    lista_final=[]\n",
    "    for row in lista_str:\n",
    "        nueva_lista = [int(i) for i in row]\n",
    "        lista_final.append(nueva_lista)\n",
    "    #devolver una lista\n",
    "    return lista_final\n",
    "    \n",
    "data = devuelve_lista(ruta)\n",
    "\n"
   ]
  },
  {
   "cell_type": "code",
   "execution_count": 42,
   "metadata": {},
   "outputs": [
    {
     "data": {
      "text/plain": [
       "[[1994, 1, 1, 6, 8096],\n",
       " [1994, 1, 2, 7, 7772],\n",
       " [1994, 1, 3, 1, 10142],\n",
       " [1994, 1, 4, 2, 11248],\n",
       " [1994, 1, 5, 3, 11053],\n",
       " [1994, 1, 6, 4, 11406],\n",
       " [1994, 1, 7, 5, 11251],\n",
       " [1994, 1, 8, 6, 8653],\n",
       " [1994, 1, 9, 7, 7910],\n",
       " [1994, 1, 10, 1, 10498]]"
      ]
     },
     "execution_count": 42,
     "metadata": {},
     "output_type": "execute_result"
    }
   ],
   "source": [
    "data[:10]"
   ]
  },
  {
   "cell_type": "code",
   "execution_count": 44,
   "metadata": {},
   "outputs": [],
   "source": [
    "def nacimientos_mes(data):\n",
    "    # definir guardar información final\n",
    "    nacimientos = {}\n",
    "    for row in data:\n",
    "        mes = row[1]\n",
    "        nac = row[4]\n",
    "        if mes in nacimientos:\n",
    "            nacimientos[mes] = nacimientos[mes] + nac\n",
    "        else:\n",
    "            nacimientos[mes] = nac\n",
    "    return nacimientos\n",
    "    "
   ]
  },
  {
   "cell_type": "code",
   "execution_count": 45,
   "metadata": {},
   "outputs": [],
   "source": [
    "por_mes = nacimientos_mes(data)"
   ]
  },
  {
   "cell_type": "code",
   "execution_count": 46,
   "metadata": {},
   "outputs": [
    {
     "data": {
      "text/plain": [
       "{1: 3232517,\n",
       " 2: 3018140,\n",
       " 3: 3322069,\n",
       " 4: 3185314,\n",
       " 5: 3350907,\n",
       " 6: 3296530,\n",
       " 7: 3498783,\n",
       " 8: 3525858,\n",
       " 9: 3439698,\n",
       " 10: 3378814,\n",
       " 11: 3171647,\n",
       " 12: 3301860}"
      ]
     },
     "execution_count": 46,
     "metadata": {},
     "output_type": "execute_result"
    }
   ],
   "source": [
    "por_mes"
   ]
  },
  {
   "cell_type": "code",
   "execution_count": null,
   "metadata": {},
   "outputs": [],
   "source": []
  }
 ],
 "metadata": {
  "kernelspec": {
   "display_name": "Python 3",
   "language": "python",
   "name": "python3"
  },
  "language_info": {
   "codemirror_mode": {
    "name": "ipython",
    "version": 3
   },
   "file_extension": ".py",
   "mimetype": "text/x-python",
   "name": "python",
   "nbconvert_exporter": "python",
   "pygments_lexer": "ipython3",
   "version": "3.7.3"
  }
 },
 "nbformat": 4,
 "nbformat_minor": 2
}
