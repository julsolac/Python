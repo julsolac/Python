{
 "cells": [
  {
   "cell_type": "markdown",
   "metadata": {},
   "source": [
    "## Funciones"
   ]
  },
  {
   "cell_type": "code",
   "execution_count": 6,
   "metadata": {},
   "outputs": [
    {
     "name": "stdout",
     "output_type": "stream",
     "text": [
      "dentro f1\n",
      "None\n",
      "dentro f2\n",
      "7\n",
      "dentro f3\n",
      "dentro f1\n",
      "None\n"
     ]
    }
   ],
   "source": [
    "def f1():\n",
    "    print (\"dentro f1\")\n",
    "    \n",
    "def f2(y):\n",
    "    print (\"dentro f2\")\n",
    "    return y\n",
    "    \n",
    "def f3(z):\n",
    "    print (\"dentro f3\")\n",
    "    return z()\n",
    "\n",
    "\n",
    "print (f1())\n",
    "print (5+f2(2))\n",
    "print (f3(f1))\n",
    "    "
   ]
  },
  {
   "cell_type": "code",
   "execution_count": 8,
   "metadata": {},
   "outputs": [
    {
     "name": "stdout",
     "output_type": "stream",
     "text": [
      "5\n",
      "5\n"
     ]
    }
   ],
   "source": [
    "x = 10\n",
    "def nueva_funcion():\n",
    "    global x  # esto modifica el scope de fuera de la función , no debería de hacerse Forzar la variable\n",
    "    x = 5\n",
    "    return x\n",
    "\n",
    "print(nueva_funcion())\n",
    "print (x)"
   ]
  },
  {
   "cell_type": "code",
   "execution_count": 10,
   "metadata": {},
   "outputs": [
    {
     "name": "stdout",
     "output_type": "stream",
     "text": [
      "4 5 a 7\n"
     ]
    }
   ],
   "source": [
    "def f(a=4,b=5,c=\"a\",d=7):\n",
    "    print (a,b,c,d)\n",
    "\n",
    "f()"
   ]
  },
  {
   "cell_type": "code",
   "execution_count": 14,
   "metadata": {},
   "outputs": [],
   "source": [
    "def printNames(nombre='',apellido='', inverso=True):\n",
    "    if inverso:\n",
    "         print (apellido,',',nombre)\n",
    "    else:\n",
    "         print (nombre,',',apellido)"
   ]
  },
  {
   "cell_type": "code",
   "execution_count": 15,
   "metadata": {},
   "outputs": [
    {
     "name": "stdout",
     "output_type": "stream",
     "text": [
      "Julio , Solis\n"
     ]
    }
   ],
   "source": [
    "printNames(\"Julio\",\"Solis\",False)"
   ]
  },
  {
   "cell_type": "markdown",
   "metadata": {},
   "source": [
    "*args o **kwargs"
   ]
  },
  {
   "cell_type": "code",
   "execution_count": 18,
   "metadata": {},
   "outputs": [
    {
     "data": {
      "text/plain": [
       "17"
      ]
     },
     "execution_count": 18,
     "metadata": {},
     "output_type": "execute_result"
    }
   ],
   "source": [
    "def sumar(*args):\n",
    "    return sum(args)\n",
    "\n",
    "\n",
    "sumar(2,4,5,6)"
   ]
  },
  {
   "cell_type": "code",
   "execution_count": 21,
   "metadata": {},
   "outputs": [
    {
     "data": {
      "text/plain": [
       "{'n': 1, 'n2': 2}"
      ]
     },
     "execution_count": 21,
     "metadata": {},
     "output_type": "execute_result"
    }
   ],
   "source": [
    "def multiplicar(**kwargs):\n",
    "    return kwargs\n",
    "\n",
    "multiplicar(n=1, n2=2)"
   ]
  },
  {
   "cell_type": "code",
   "execution_count": 22,
   "metadata": {},
   "outputs": [],
   "source": [
    "def printNames(nombre='',apellido='', inverso=True):\n",
    "    '''\n",
    "    Author: Julio Solis\n",
    "    fecha: 19/09/2019\n",
    "    \n",
    "    input: \n",
    "        nombre: string Nombre de Persona\n",
    "        apellido: string Apellido de Persona\n",
    "        inverso: bool orden mostrar info\n",
    "        return un string inverso\n",
    "    '''\n",
    "    if inverso:\n",
    "         print (apellido,',',nombre)\n",
    "    else:\n",
    "         print (nombre,',',apellido)"
   ]
  },
  {
   "cell_type": "code",
   "execution_count": 23,
   "metadata": {},
   "outputs": [
    {
     "name": "stdout",
     "output_type": "stream",
     "text": [
      "Help on function printNames in module __main__:\n",
      "\n",
      "printNames(nombre='', apellido='', inverso=True)\n",
      "    Author: Julio Solis\n",
      "    fecha: 19/09/2019\n",
      "    \n",
      "    input: \n",
      "        nombre: string Nombre de Persona\n",
      "        apellido: string Apellido de Persona\n",
      "        inverso: bool orden mostrar info\n",
      "        return un string inverso\n",
      "\n"
     ]
    }
   ],
   "source": [
    "help(printNames)"
   ]
  },
  {
   "cell_type": "code",
   "execution_count": 24,
   "metadata": {},
   "outputs": [
    {
     "name": "stdout",
     "output_type": "stream",
     "text": [
      "Help on built-in function print in module builtins:\n",
      "\n",
      "print(...)\n",
      "    print(value, ..., sep=' ', end='\\n', file=sys.stdout, flush=False)\n",
      "    \n",
      "    Prints the values to a stream, or to sys.stdout by default.\n",
      "    Optional keyword arguments:\n",
      "    file:  a file-like object (stream); defaults to the current sys.stdout.\n",
      "    sep:   string inserted between values, default a space.\n",
      "    end:   string appended after the last value, default a newline.\n",
      "    flush: whether to forcibly flush the stream.\n",
      "\n"
     ]
    }
   ],
   "source": [
    "help(print)"
   ]
  },
  {
   "cell_type": "code",
   "execution_count": null,
   "metadata": {},
   "outputs": [],
   "source": []
  }
 ],
 "metadata": {
  "kernelspec": {
   "display_name": "Python 3",
   "language": "python",
   "name": "python3"
  },
  "language_info": {
   "codemirror_mode": {
    "name": "ipython",
    "version": 3
   },
   "file_extension": ".py",
   "mimetype": "text/x-python",
   "name": "python",
   "nbconvert_exporter": "python",
   "pygments_lexer": "ipython3",
   "version": "3.7.3"
  }
 },
 "nbformat": 4,
 "nbformat_minor": 2
}
