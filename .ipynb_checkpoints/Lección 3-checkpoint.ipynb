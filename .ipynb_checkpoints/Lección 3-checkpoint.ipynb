{
 "cells": [
  {
   "cell_type": "markdown",
   "metadata": {},
   "source": [
    "USER INPUT"
   ]
  },
  {
   "cell_type": "code",
   "execution_count": 4,
   "metadata": {},
   "outputs": [
    {
     "name": "stdout",
     "output_type": "stream",
     "text": [
      "¿Cual es su nombre?JULIO SOLIS A\n"
     ]
    },
    {
     "data": {
      "text/plain": [
       "'JULIO SOLIS A'"
      ]
     },
     "execution_count": 4,
     "metadata": {},
     "output_type": "execute_result"
    }
   ],
   "source": [
    "input('¿Cual es su nombre?')"
   ]
  },
  {
   "cell_type": "code",
   "execution_count": 5,
   "metadata": {},
   "outputs": [
    {
     "name": "stdout",
     "output_type": "stream",
     "text": [
      "Cual es tu edad42\n"
     ]
    }
   ],
   "source": [
    "edad = input('Cual es tu edad')   # lo que captura siempre será en string"
   ]
  },
  {
   "cell_type": "code",
   "execution_count": 6,
   "metadata": {},
   "outputs": [
    {
     "data": {
      "text/plain": [
       "'42'"
      ]
     },
     "execution_count": 6,
     "metadata": {},
     "output_type": "execute_result"
    }
   ],
   "source": [
    "edad"
   ]
  },
  {
   "cell_type": "code",
   "execution_count": 7,
   "metadata": {},
   "outputs": [
    {
     "data": {
      "text/plain": [
       "'42424242424242424242424242424242424242'"
      ]
     },
     "execution_count": 7,
     "metadata": {},
     "output_type": "execute_result"
    }
   ],
   "source": [
    "edad * 19    # multipla el string "
   ]
  },
  {
   "cell_type": "code",
   "execution_count": 9,
   "metadata": {},
   "outputs": [],
   "source": [
    "edad = int(edad)   # convierte a número"
   ]
  },
  {
   "cell_type": "code",
   "execution_count": 10,
   "metadata": {},
   "outputs": [
    {
     "data": {
      "text/plain": [
       "42"
      ]
     },
     "execution_count": 10,
     "metadata": {},
     "output_type": "execute_result"
    }
   ],
   "source": [
    "edad"
   ]
  },
  {
   "cell_type": "code",
   "execution_count": 11,
   "metadata": {},
   "outputs": [
    {
     "data": {
      "text/plain": [
       "798"
      ]
     },
     "execution_count": 11,
     "metadata": {},
     "output_type": "execute_result"
    }
   ],
   "source": [
    "edad * 19 "
   ]
  },
  {
   "cell_type": "code",
   "execution_count": 12,
   "metadata": {},
   "outputs": [
    {
     "name": "stdout",
     "output_type": "stream",
     "text": [
      "¿Cuales países te gustaría visitar? Separados por comasCosta Rica, Panamá\n"
     ]
    }
   ],
   "source": [
    "paises = input(\"¿Cuales países te gustaría visitar? Separados por comas\")"
   ]
  },
  {
   "cell_type": "code",
   "execution_count": 13,
   "metadata": {},
   "outputs": [
    {
     "data": {
      "text/plain": [
       "'Costa Rica, Panamá'"
      ]
     },
     "execution_count": 13,
     "metadata": {},
     "output_type": "execute_result"
    }
   ],
   "source": [
    "paises"
   ]
  },
  {
   "cell_type": "code",
   "execution_count": 15,
   "metadata": {},
   "outputs": [
    {
     "data": {
      "text/plain": [
       "['CostaRica', 'Panamá']"
      ]
     },
     "execution_count": 15,
     "metadata": {},
     "output_type": "execute_result"
    }
   ],
   "source": [
    "paises_list = paises.replace(' ',\"\").split(\",\")   # Elimina los espacios vacíos y lo divide por las comas\n",
    "paises_list"
   ]
  },
  {
   "cell_type": "code",
   "execution_count": null,
   "metadata": {},
   "outputs": [],
   "source": [
    "lista_paises = input(\"¿Cuales países te gustaría visitar? Separados por comas\")"
   ]
  },
  {
   "cell_type": "code",
   "execution_count": 17,
   "metadata": {},
   "outputs": [
    {
     "data": {
      "text/plain": [
       "'[\"Costa Rica\", \"Guatemala\", \"El Salvador\"]'"
      ]
     },
     "execution_count": 17,
     "metadata": {},
     "output_type": "execute_result"
    }
   ],
   "source": [
    "lista_paises"
   ]
  },
  {
   "cell_type": "code",
   "execution_count": 18,
   "metadata": {},
   "outputs": [],
   "source": [
    "lista_python = eval(lista_paises)     # elimina aquellos caracteres que no deberian estar en la lista."
   ]
  },
  {
   "cell_type": "code",
   "execution_count": 1,
   "metadata": {},
   "outputs": [
    {
     "ename": "NameError",
     "evalue": "name 'lista_python' is not defined",
     "output_type": "error",
     "traceback": [
      "\u001b[1;31m---------------------------------------------------------------------------\u001b[0m",
      "\u001b[1;31mNameError\u001b[0m                                 Traceback (most recent call last)",
      "\u001b[1;32m<ipython-input-1-ac439f5cdb4e>\u001b[0m in \u001b[0;36m<module>\u001b[1;34m\u001b[0m\n\u001b[1;32m----> 1\u001b[1;33m \u001b[0mlista_python\u001b[0m\u001b[1;33m\u001b[0m\u001b[1;33m\u001b[0m\u001b[0m\n\u001b[0m",
      "\u001b[1;31mNameError\u001b[0m: name 'lista_python' is not defined"
     ]
    }
   ],
   "source": [
    "lista_python"
   ]
  },
  {
   "cell_type": "code",
   "execution_count": 2,
   "metadata": {},
   "outputs": [
    {
     "name": "stdout",
     "output_type": "stream",
     "text": [
      "Cuantos invitados? Responda con un número del 1 al 1003\n",
      "Nombre del invitado?Julio\n",
      "Nombre del invitado?Juan\n",
      "Nombre del invitado?Pedro\n",
      "Nombre del invitado?Erick\n",
      "['Julio', 'Juan', 'Pedro', 'Erick']\n"
     ]
    }
   ],
   "source": [
    "invitados = int(input(\"Cuantos invitados? Responda con un número del 1 al 100\"))\n",
    "lista = []\n",
    "i = 0\n",
    "while i<= invitados:\n",
    "      nombre = input(\"Nombre del invitado?\")\n",
    "      lista.append(nombre)\n",
    "      i = i+1\n",
    "    \n",
    "print(lista)\n"
   ]
  },
  {
   "cell_type": "code",
   "execution_count": 3,
   "metadata": {},
   "outputs": [
    {
     "name": "stdout",
     "output_type": "stream",
     "text": [
      "Cuantos invitados? Responda con un número del 1 al 1003\n",
      "Excelente, vamos a agredar un máximo de 3\n",
      "Nombre del invitado #1?Julio\n",
      "Solo te quedan 2\n",
      "Nombre del invitado #2?Juan\n",
      "Solo te quedan 1\n",
      "Nombre del invitado #3?Pedro\n",
      "Solo te quedan 0\n",
      "['Julio', 'Juan', 'Pedro']\n"
     ]
    }
   ],
   "source": [
    "invitados = int(input(\"Cuantos invitados? Responda con un número del 1 al 100\"))\n",
    "lista = []\n",
    "\n",
    "print(\"Excelente, vamos a agredar un máximo de {}\".format(invitados))\n",
    "\n",
    "for i in range(invitados):\n",
    "      nombre = input(\"Nombre del invitado #{num}?\".format(num=i+1))\n",
    "      lista.append(nombre)\n",
    "      print(\"Solo te quedan {}\".format(invitados-(i+1)))\n",
    "        \n",
    "print(lista)"
   ]
  },
  {
   "cell_type": "code",
   "execution_count": null,
   "metadata": {},
   "outputs": [],
   "source": []
  }
 ],
 "metadata": {
  "kernelspec": {
   "display_name": "Python 3",
   "language": "python",
   "name": "python3"
  },
  "language_info": {
   "codemirror_mode": {
    "name": "ipython",
    "version": 3
   },
   "file_extension": ".py",
   "mimetype": "text/x-python",
   "name": "python",
   "nbconvert_exporter": "python",
   "pygments_lexer": "ipython3",
   "version": "3.7.3"
  }
 },
 "nbformat": 4,
 "nbformat_minor": 2
}
