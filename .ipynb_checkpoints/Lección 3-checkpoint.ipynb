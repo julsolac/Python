{
 "cells": [
  {
   "cell_type": "markdown",
   "metadata": {},
   "source": [
    "## USER INPUT"
   ]
  },
  {
   "cell_type": "code",
   "execution_count": 4,
   "metadata": {},
   "outputs": [
    {
     "name": "stdout",
     "output_type": "stream",
     "text": [
      "¿Cual es su nombre?JULIO SOLIS A\n"
     ]
    },
    {
     "data": {
      "text/plain": [
       "'JULIO SOLIS A'"
      ]
     },
     "execution_count": 4,
     "metadata": {},
     "output_type": "execute_result"
    }
   ],
   "source": [
    "input('¿Cual es su nombre?')"
   ]
  },
  {
   "cell_type": "code",
   "execution_count": 5,
   "metadata": {},
   "outputs": [
    {
     "name": "stdout",
     "output_type": "stream",
     "text": [
      "Cual es tu edad42\n"
     ]
    }
   ],
   "source": [
    "edad = input('Cual es tu edad')   # lo que captura siempre será en string"
   ]
  },
  {
   "cell_type": "code",
   "execution_count": 6,
   "metadata": {},
   "outputs": [
    {
     "data": {
      "text/plain": [
       "'42'"
      ]
     },
     "execution_count": 6,
     "metadata": {},
     "output_type": "execute_result"
    }
   ],
   "source": [
    "edad"
   ]
  },
  {
   "cell_type": "code",
   "execution_count": 7,
   "metadata": {},
   "outputs": [
    {
     "data": {
      "text/plain": [
       "'42424242424242424242424242424242424242'"
      ]
     },
     "execution_count": 7,
     "metadata": {},
     "output_type": "execute_result"
    }
   ],
   "source": [
    "edad * 19    # multipla el string "
   ]
  },
  {
   "cell_type": "code",
   "execution_count": 9,
   "metadata": {},
   "outputs": [],
   "source": [
    "edad = int(edad)   # convierte a número"
   ]
  },
  {
   "cell_type": "code",
   "execution_count": 10,
   "metadata": {},
   "outputs": [
    {
     "data": {
      "text/plain": [
       "42"
      ]
     },
     "execution_count": 10,
     "metadata": {},
     "output_type": "execute_result"
    }
   ],
   "source": [
    "edad"
   ]
  },
  {
   "cell_type": "code",
   "execution_count": 11,
   "metadata": {},
   "outputs": [
    {
     "data": {
      "text/plain": [
       "798"
      ]
     },
     "execution_count": 11,
     "metadata": {},
     "output_type": "execute_result"
    }
   ],
   "source": [
    "edad * 19 "
   ]
  },
  {
   "cell_type": "code",
   "execution_count": 12,
   "metadata": {},
   "outputs": [
    {
     "name": "stdout",
     "output_type": "stream",
     "text": [
      "¿Cuales países te gustaría visitar? Separados por comasCosta Rica, Panamá\n"
     ]
    }
   ],
   "source": [
    "paises = input(\"¿Cuales países te gustaría visitar? Separados por comas\")"
   ]
  },
  {
   "cell_type": "code",
   "execution_count": 13,
   "metadata": {},
   "outputs": [
    {
     "data": {
      "text/plain": [
       "'Costa Rica, Panamá'"
      ]
     },
     "execution_count": 13,
     "metadata": {},
     "output_type": "execute_result"
    }
   ],
   "source": [
    "paises"
   ]
  },
  {
   "cell_type": "code",
   "execution_count": 15,
   "metadata": {},
   "outputs": [
    {
     "data": {
      "text/plain": [
       "['CostaRica', 'Panamá']"
      ]
     },
     "execution_count": 15,
     "metadata": {},
     "output_type": "execute_result"
    }
   ],
   "source": [
    "paises_list = paises.replace(' ',\"\").split(\",\")   # Elimina los espacios vacíos y lo divide por las comas\n",
    "paises_list"
   ]
  },
  {
   "cell_type": "code",
   "execution_count": null,
   "metadata": {},
   "outputs": [],
   "source": [
    "lista_paises = input(\"¿Cuales países te gustaría visitar? Separados por comas\")"
   ]
  },
  {
   "cell_type": "code",
   "execution_count": 17,
   "metadata": {},
   "outputs": [
    {
     "data": {
      "text/plain": [
       "'[\"Costa Rica\", \"Guatemala\", \"El Salvador\"]'"
      ]
     },
     "execution_count": 17,
     "metadata": {},
     "output_type": "execute_result"
    }
   ],
   "source": [
    "lista_paises"
   ]
  },
  {
   "cell_type": "code",
   "execution_count": 18,
   "metadata": {},
   "outputs": [],
   "source": [
    "lista_python = eval(lista_paises)     # elimina aquellos caracteres que no deberian estar en la lista."
   ]
  },
  {
   "cell_type": "code",
   "execution_count": 1,
   "metadata": {},
   "outputs": [
    {
     "ename": "NameError",
     "evalue": "name 'lista_python' is not defined",
     "output_type": "error",
     "traceback": [
      "\u001b[1;31m---------------------------------------------------------------------------\u001b[0m",
      "\u001b[1;31mNameError\u001b[0m                                 Traceback (most recent call last)",
      "\u001b[1;32m<ipython-input-1-ac439f5cdb4e>\u001b[0m in \u001b[0;36m<module>\u001b[1;34m\u001b[0m\n\u001b[1;32m----> 1\u001b[1;33m \u001b[0mlista_python\u001b[0m\u001b[1;33m\u001b[0m\u001b[1;33m\u001b[0m\u001b[0m\n\u001b[0m",
      "\u001b[1;31mNameError\u001b[0m: name 'lista_python' is not defined"
     ]
    }
   ],
   "source": [
    "lista_python"
   ]
  },
  {
   "cell_type": "code",
   "execution_count": 4,
   "metadata": {},
   "outputs": [
    {
     "name": "stdout",
     "output_type": "stream",
     "text": [
      "Cuantos invitados? Responda con un número del 1 al 1002\n",
      "Nombre del invitado?Julio\n",
      "Nombre del invitado?Juan\n",
      "['Julio', 'Juan']\n"
     ]
    }
   ],
   "source": [
    "invitados = int(input(\"Cuantos invitados? Responda con un número del 1 al 100\"))\n",
    "lista = []\n",
    "i = 0\n",
    "while i< invitados:\n",
    "      nombre = input(\"Nombre del invitado?\")\n",
    "      lista.append(nombre)\n",
    "      i = i+1\n",
    "    \n",
    "print(lista)\n"
   ]
  },
  {
   "cell_type": "code",
   "execution_count": 5,
   "metadata": {},
   "outputs": [
    {
     "name": "stdout",
     "output_type": "stream",
     "text": [
      "Cuantos invitados? Responda con un número del 1 al 100 3\n",
      "Excelente, vamos a agredar un máximo de 3\n",
      "Nombre del invitado #1? Julio\n",
      "Solo te quedan 2\n",
      "Nombre del invitado #2? Juan\n",
      "Solo te quedan 1\n",
      "Nombre del invitado #3? Pablo\n",
      "Solo te quedan 0\n",
      "['Julio', 'Juan', 'Pablo']\n"
     ]
    }
   ],
   "source": [
    "invitados = int(input(\"Cuantos invitados? Responda con un número del 1 al 100 \"))\n",
    "lista = []\n",
    "\n",
    "print(\"Excelente, vamos a agredar un máximo de {}\".format(invitados))\n",
    "\n",
    "for i in range(invitados):\n",
    "      nombre = input(\"Nombre del invitado #{num}? \".format(num=i+1))\n",
    "      lista.append(nombre)\n",
    "      print(\"Solo te quedan {}\".format(invitados-(i+1)))\n",
    "        \n",
    "print(lista)"
   ]
  },
  {
   "cell_type": "markdown",
   "metadata": {},
   "source": [
    "## Funciones"
   ]
  },
  {
   "cell_type": "code",
   "execution_count": 6,
   "metadata": {},
   "outputs": [
    {
     "data": {
      "text/plain": [
       "1.0"
      ]
     },
     "execution_count": 6,
     "metadata": {},
     "output_type": "execute_result"
    }
   ],
   "source": [
    "import math\n",
    "\n",
    "math.cos(0)"
   ]
  },
  {
   "cell_type": "code",
   "execution_count": 7,
   "metadata": {},
   "outputs": [
    {
     "data": {
      "text/plain": [
       "1.0"
      ]
     },
     "execution_count": 7,
     "metadata": {},
     "output_type": "execute_result"
    }
   ],
   "source": [
    "import math as m\n",
    "\n",
    "m.cos(0)"
   ]
  },
  {
   "cell_type": "code",
   "execution_count": 8,
   "metadata": {},
   "outputs": [],
   "source": [
    "from math import cos, sin"
   ]
  },
  {
   "cell_type": "code",
   "execution_count": 9,
   "metadata": {},
   "outputs": [
    {
     "data": {
      "text/plain": [
       "1.0"
      ]
     },
     "execution_count": 9,
     "metadata": {},
     "output_type": "execute_result"
    }
   ],
   "source": [
    "cos(0)"
   ]
  },
  {
   "cell_type": "code",
   "execution_count": 10,
   "metadata": {},
   "outputs": [
    {
     "data": {
      "text/plain": [
       "0.0"
      ]
     },
     "execution_count": 10,
     "metadata": {},
     "output_type": "execute_result"
    }
   ],
   "source": [
    "sin(0)"
   ]
  },
  {
   "cell_type": "code",
   "execution_count": null,
   "metadata": {},
   "outputs": [],
   "source": [
    "\n",
    "print ('Introducción - Bienvenido al Juego')\n",
    "print ('Este juego trata de adivinar un número en la menor cantidad de intentos')\n",
    "print ('El número es del 1 al 100')\n",
    "print ('Se te indicará si estás lejos o cerca del número a adivinar')\n",
    "print ('Instrucciones')\n",
    "print ('Digite un número tantas veces le sea solicitado')\n",
    "print ()\n",
    "\n",
    "from random import randint\n",
    "n = randint(1,100)\n",
    "\n",
    "counter = 1\n",
    "\n",
    "while True:\n",
    "      r = input('Quieres jugar? S/N')\n",
    "      if r == 'S':\n",
    "            while True:\n",
    "                  num = int(input('Digite un número: '))\n",
    "                  if num<1 or num>100:\n",
    "                     print('Cuidado...el número no está dentro del rango')\n",
    "                  else:\n",
    "                     if num != n:\n",
    "                        dif = abs(num-n)\n",
    "                        if dif <= 10 and dif > 5:\n",
    "                            print('Estás cerca...')\n",
    "                        if dif <= 5:\n",
    "                            print('Estás muy muy cerca...')\n",
    "                        if dif > 10:\n",
    "                            print('Estás lejos...')\n",
    "                        counter = counter+1\n",
    "                     else:\n",
    "                        break\n",
    "            print('Felicitaciones, has acertado el número !!! {} con {} intentos.'.format(n,counter))\n",
    "      else:\n",
    "        break\n",
    "        \n",
    "print('Regresa Pronto !!') \n",
    "        "
   ]
  },
  {
   "cell_type": "code",
   "execution_count": 32,
   "metadata": {},
   "outputs": [],
   "source": [
    "# Abstracción y descomposición : ejemplo parlante\n",
    "\n",
    "def nombre_de_la_funcion(x):\n",
    "    print (x)\n",
    "    return x"
   ]
  },
  {
   "cell_type": "code",
   "execution_count": 30,
   "metadata": {},
   "outputs": [
    {
     "name": "stdout",
     "output_type": "stream",
     "text": [
      "Hola\n"
     ]
    }
   ],
   "source": [
    "nombre_de_la_funcion()"
   ]
  },
  {
   "cell_type": "code",
   "execution_count": 33,
   "metadata": {},
   "outputs": [
    {
     "name": "stdout",
     "output_type": "stream",
     "text": [
      "Julio\n"
     ]
    },
    {
     "data": {
      "text/plain": [
       "'Julio'"
      ]
     },
     "execution_count": 33,
     "metadata": {},
     "output_type": "execute_result"
    }
   ],
   "source": [
    "nombre_de_la_funcion('Julio')"
   ]
  },
  {
   "cell_type": "code",
   "execution_count": 34,
   "metadata": {},
   "outputs": [],
   "source": [
    "def sumar_numeros(n1, n2):\n",
    "    return n1+n2"
   ]
  },
  {
   "cell_type": "code",
   "execution_count": 35,
   "metadata": {},
   "outputs": [
    {
     "data": {
      "text/plain": [
       "4"
      ]
     },
     "execution_count": 35,
     "metadata": {},
     "output_type": "execute_result"
    }
   ],
   "source": [
    "sumar_numeros(1,3)"
   ]
  },
  {
   "cell_type": "code",
   "execution_count": 36,
   "metadata": {},
   "outputs": [
    {
     "data": {
      "text/plain": [
       "16"
      ]
     },
     "execution_count": 36,
     "metadata": {},
     "output_type": "execute_result"
    }
   ],
   "source": [
    "sumar_numeros(1,3) ** 2"
   ]
  },
  {
   "cell_type": "code",
   "execution_count": 37,
   "metadata": {},
   "outputs": [],
   "source": [
    "def es_par(num):\n",
    "    return num%2==0\n"
   ]
  },
  {
   "cell_type": "code",
   "execution_count": 38,
   "metadata": {},
   "outputs": [
    {
     "data": {
      "text/plain": [
       "True"
      ]
     },
     "execution_count": 38,
     "metadata": {},
     "output_type": "execute_result"
    }
   ],
   "source": [
    "es_par(2)"
   ]
  },
  {
   "cell_type": "code",
   "execution_count": 39,
   "metadata": {},
   "outputs": [
    {
     "name": "stdout",
     "output_type": "stream",
     "text": [
      "Es impar\n"
     ]
    }
   ],
   "source": [
    "n = 3\n",
    "if es_par(n):\n",
    "   print('Es par')\n",
    "else:\n",
    "   print('Es impar')\n"
   ]
  },
  {
   "cell_type": "code",
   "execution_count": 41,
   "metadata": {},
   "outputs": [],
   "source": [
    "def es_primo(num):\n",
    "    for n in range(2,num):\n",
    "        if num%n == 0: \n",
    "           return False\n",
    "        else:\n",
    "           return True\n",
    "    "
   ]
  },
  {
   "cell_type": "code",
   "execution_count": 43,
   "metadata": {},
   "outputs": [
    {
     "name": "stdout",
     "output_type": "stream",
     "text": [
      "Este número no es Primo\n"
     ]
    }
   ],
   "source": [
    "if not es_primo(45): \n",
    "   print ('Este número es Primo')\n",
    "else:\n",
    "   print ('Este número no es Primo')\n",
    "\n"
   ]
  },
  {
   "cell_type": "markdown",
   "metadata": {},
   "source": [
    "## SCOPE"
   ]
  },
  {
   "cell_type": "code",
   "execution_count": null,
   "metadata": {},
   "outputs": [],
   "source": [
    "# Existe un scope global para el manejo de variables\n",
    "# Dentro de la función puedo utilizar una variable con el mismo nombre, pero es otro scope, por lo tanto no está relacionada \n",
    "# a la variable original del scope global.\n"
   ]
  }
 ],
 "metadata": {
  "kernelspec": {
   "display_name": "Python 3",
   "language": "python",
   "name": "python3"
  },
  "language_info": {
   "codemirror_mode": {
    "name": "ipython",
    "version": 3
   },
   "file_extension": ".py",
   "mimetype": "text/x-python",
   "name": "python",
   "nbconvert_exporter": "python",
   "pygments_lexer": "ipython3",
   "version": "3.7.3"
  }
 },
 "nbformat": 4,
 "nbformat_minor": 2
}
