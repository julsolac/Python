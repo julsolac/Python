{
 "cells": [
  {
   "cell_type": "markdown",
   "metadata": {},
   "source": [
    "## Archivos"
   ]
  },
  {
   "cell_type": "code",
   "execution_count": 1,
   "metadata": {},
   "outputs": [
    {
     "name": "stdout",
     "output_type": "stream",
     "text": [
      "<_io.TextIOWrapper name='test.txt' mode='r' encoding='cp1252'>\n"
     ]
    }
   ],
   "source": [
    "archivo = open('test.txt')\n",
    "print (archivo) # imprime el tipo de archivo\n",
    "archivo.close()"
   ]
  },
  {
   "cell_type": "code",
   "execution_count": 2,
   "metadata": {},
   "outputs": [
    {
     "name": "stdout",
     "output_type": "stream",
     "text": [
      "Esta es la linea 1\n",
      "Esta es la linea 2\n",
      "Esta es la linea 3\n",
      "Esta es la linea 4\n",
      "\n"
     ]
    }
   ],
   "source": [
    "archivo = open('test.txt')\n",
    "data = archivo.read()  # lee los registros del archivo y los carga en data\n",
    "print (data)\n",
    "archivo.close() "
   ]
  },
  {
   "cell_type": "code",
   "execution_count": 3,
   "metadata": {},
   "outputs": [
    {
     "data": {
      "text/plain": [
       "'Esta es la linea 1\\nEsta es la linea 2\\nEsta es la linea 3\\nEsta es la linea 4\\n'"
      ]
     },
     "execution_count": 3,
     "metadata": {},
     "output_type": "execute_result"
    }
   ],
   "source": [
    "data"
   ]
  },
  {
   "cell_type": "code",
   "execution_count": 4,
   "metadata": {},
   "outputs": [
    {
     "data": {
      "text/plain": [
       "['Esta es la linea 1',\n",
       " 'Esta es la linea 2',\n",
       " 'Esta es la linea 3',\n",
       " 'Esta es la linea 4',\n",
       " '']"
      ]
     },
     "execution_count": 4,
     "metadata": {},
     "output_type": "execute_result"
    }
   ],
   "source": [
    "data.split('\\n')"
   ]
  },
  {
   "cell_type": "code",
   "execution_count": 5,
   "metadata": {},
   "outputs": [],
   "source": [
    "lista = data.split('\\n')"
   ]
  },
  {
   "cell_type": "code",
   "execution_count": 6,
   "metadata": {},
   "outputs": [
    {
     "data": {
      "text/plain": [
       "['Esta es la linea 1',\n",
       " 'Esta es la linea 2',\n",
       " 'Esta es la linea 3',\n",
       " 'Esta es la linea 4',\n",
       " '']"
      ]
     },
     "execution_count": 6,
     "metadata": {},
     "output_type": "execute_result"
    }
   ],
   "source": [
    "lista"
   ]
  },
  {
   "cell_type": "code",
   "execution_count": 7,
   "metadata": {},
   "outputs": [
    {
     "data": {
      "text/plain": [
       "list"
      ]
     },
     "execution_count": 7,
     "metadata": {},
     "output_type": "execute_result"
    }
   ],
   "source": [
    "type(lista)   # para ver el tipo de variable"
   ]
  },
  {
   "cell_type": "markdown",
   "metadata": {},
   "source": [
    "## Conditional Statements"
   ]
  },
  {
   "cell_type": "code",
   "execution_count": null,
   "metadata": {},
   "outputs": [],
   "source": [
    "if\n",
    "else\n",
    "elif"
   ]
  },
  {
   "cell_type": "code",
   "execution_count": 8,
   "metadata": {},
   "outputs": [
    {
     "name": "stdout",
     "output_type": "stream",
     "text": [
      "no es\n"
     ]
    }
   ],
   "source": [
    "x = 10\n",
    "if x>10:\n",
    "    print('Si está')\n",
    "else:\n",
    "    print('no es')"
   ]
  },
  {
   "cell_type": "code",
   "execution_count": 9,
   "metadata": {},
   "outputs": [
    {
     "name": "stdout",
     "output_type": "stream",
     "text": [
      "10 es un número negativo\n"
     ]
    }
   ],
   "source": [
    "x = 10\n",
    "if x>10:\n",
    "    print('{} es un número positivo'.format(x))\n",
    "else:\n",
    "    print('{} es un número negativo'.format(x))"
   ]
  },
  {
   "cell_type": "code",
   "execution_count": 10,
   "metadata": {},
   "outputs": [
    {
     "name": "stdout",
     "output_type": "stream",
     "text": [
      "Es cero\n"
     ]
    }
   ],
   "source": [
    "x = 0\n",
    "if x>0:\n",
    "    print('{} es un número positivo'.format(x))\n",
    "elif x<0:\n",
    "    print('{} es un número negativo'.format(x))\n",
    "else: \n",
    "    print ('Es cero')"
   ]
  },
  {
   "cell_type": "code",
   "execution_count": 23,
   "metadata": {},
   "outputs": [
    {
     "name": "stdout",
     "output_type": "stream",
     "text": [
      "0 es cero es un número par\n"
     ]
    }
   ],
   "source": [
    "x = 0 \n",
    "if x<0:  \n",
    "        tipo = 'negativo'\n",
    "elif x>0:\n",
    "        tipo = 'positivo'\n",
    "else: \n",
    "        tipo = 'cero'\n",
    "        \n",
    "if x % 2 == 0:\n",
    "    print('{} es {} es un número par'.format(x,tipo))\n",
    "else:   \n",
    "    print('{} es {} es un número impar'.format(x, tipo))\n",
    "    "
   ]
  },
  {
   "cell_type": "markdown",
   "metadata": {},
   "source": [
    "## Loops"
   ]
  },
  {
   "cell_type": "code",
   "execution_count": 24,
   "metadata": {},
   "outputs": [],
   "source": [
    "lista = ['a','b','c']"
   ]
  },
  {
   "cell_type": "code",
   "execution_count": 25,
   "metadata": {},
   "outputs": [
    {
     "name": "stdout",
     "output_type": "stream",
     "text": [
      "a\n",
      "b\n",
      "c\n"
     ]
    }
   ],
   "source": [
    "for e in lista:\n",
    "    print(e)"
   ]
  },
  {
   "cell_type": "code",
   "execution_count": 26,
   "metadata": {},
   "outputs": [
    {
     "data": {
      "text/plain": [
       "'Esta es la linea 1\\nEsta es la linea 2\\nEsta es la linea 3\\nEsta es la linea 4\\n'"
      ]
     },
     "execution_count": 26,
     "metadata": {},
     "output_type": "execute_result"
    }
   ],
   "source": [
    "data"
   ]
  },
  {
   "cell_type": "code",
   "execution_count": 28,
   "metadata": {},
   "outputs": [
    {
     "name": "stdout",
     "output_type": "stream",
     "text": [
      "Esta es la linea 1\n",
      "Esta es la linea 2\n",
      "Esta es la linea 3\n",
      "Esta es la linea 4\n",
      "\n"
     ]
    }
   ],
   "source": [
    "for e in data.split('\\n'):\n",
    "    print(e)"
   ]
  },
  {
   "cell_type": "code",
   "execution_count": 31,
   "metadata": {},
   "outputs": [
    {
     "name": "stdout",
     "output_type": "stream",
     "text": [
      "b\n",
      "a\n",
      "c\n"
     ]
    }
   ],
   "source": [
    "indices=[1,0,2]\n",
    "for i in indices:\n",
    "    print(lista[i])"
   ]
  },
  {
   "cell_type": "code",
   "execution_count": 33,
   "metadata": {},
   "outputs": [],
   "source": [
    "l = []\n",
    "for i in range(10):    # con shitf + tab dentro de una funcion se puede ver los parámetros que pueden utilizarse\n",
    "    l.append(i+2)"
   ]
  },
  {
   "cell_type": "code",
   "execution_count": 34,
   "metadata": {},
   "outputs": [
    {
     "data": {
      "text/plain": [
       "[2, 3, 4, 5, 6, 7, 8, 9, 10, 11]"
      ]
     },
     "execution_count": 34,
     "metadata": {},
     "output_type": "execute_result"
    }
   ],
   "source": [
    "l"
   ]
  },
  {
   "cell_type": "code",
   "execution_count": 35,
   "metadata": {},
   "outputs": [
    {
     "data": {
      "text/plain": [
       "[2, 3, 4, 5, 6, 7, 8, 9, 10, 11]"
      ]
     },
     "execution_count": 35,
     "metadata": {},
     "output_type": "execute_result"
    }
   ],
   "source": [
    "[i+2 for i in range(10)]  # lo mismo que lo anterior pero más resumido"
   ]
  },
  {
   "cell_type": "markdown",
   "metadata": {},
   "source": [
    "### While"
   ]
  },
  {
   "cell_type": "code",
   "execution_count": 36,
   "metadata": {},
   "outputs": [
    {
     "name": "stdout",
     "output_type": "stream",
     "text": [
      "10\n",
      "9\n",
      "8\n",
      "7\n",
      "6\n",
      "5\n",
      "4\n",
      "3\n",
      "2\n",
      "1\n",
      "0\n"
     ]
    }
   ],
   "source": [
    "x = 10\n",
    "while x>=0:\n",
    "    print(x)\n",
    "    x = x - 1"
   ]
  },
  {
   "cell_type": "code",
   "execution_count": 39,
   "metadata": {},
   "outputs": [
    {
     "name": "stdout",
     "output_type": "stream",
     "text": [
      "1\n",
      "3\n",
      "5\n",
      "7\n",
      "9\n"
     ]
    }
   ],
   "source": [
    "for i in range(1,10):\n",
    "    if i % 2 == 0:\n",
    "         continue\n",
    "    print(i)"
   ]
  },
  {
   "cell_type": "code",
   "execution_count": 40,
   "metadata": {},
   "outputs": [
    {
     "name": "stdout",
     "output_type": "stream",
     "text": [
      "1\n",
      "2\n",
      "3\n",
      "4\n"
     ]
    }
   ],
   "source": [
    "for i in range(1,10):\n",
    "    if i%5 == 0:\n",
    "          break\n",
    "    else:\n",
    "        print(i)"
   ]
  },
  {
   "cell_type": "code",
   "execution_count": null,
   "metadata": {},
   "outputs": [],
   "source": []
  }
 ],
 "metadata": {
  "kernelspec": {
   "display_name": "Python 3",
   "language": "python",
   "name": "python3"
  },
  "language_info": {
   "codemirror_mode": {
    "name": "ipython",
    "version": 3
   },
   "file_extension": ".py",
   "mimetype": "text/x-python",
   "name": "python",
   "nbconvert_exporter": "python",
   "pygments_lexer": "ipython3",
   "version": "3.7.3"
  }
 },
 "nbformat": 4,
 "nbformat_minor": 2
}
